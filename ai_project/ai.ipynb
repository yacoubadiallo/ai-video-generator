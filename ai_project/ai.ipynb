{
 "cells": [
  {
   "cell_type": "code",
   "execution_count": 1,
   "id": "e45b701b-4987-49ff-a78a-f30f0371d83b",
   "metadata": {},
   "outputs": [],
   "source": [
    "import os\n",
    "import re\n",
    "import requests\n",
    "from gtts import gTTS\n",
    "from urllib.parse import quote\n",
    "from PIL import Image, ImageFilter\n",
    "from moviepy.editor import ImageClip, AudioFileClip, concatenate_videoclips, VideoFileClip\n",
    "import gradio as gr"
   ]
  },
  {
   "cell_type": "code",
   "execution_count": 2,
   "id": "4a950c1a-38d7-4829-b9e6-28f6c4ca5e3c",
   "metadata": {},
   "outputs": [],
   "source": [
    "# Dossiers\n",
    "os.makedirs(\"images\", exist_ok=True)\n",
    "os.makedirs(\"voix\", exist_ok=True)"
   ]
  },
  {
   "cell_type": "code",
   "execution_count": 3,
   "id": "7796de00-1b54-454c-9e07-308faf41f563",
   "metadata": {},
   "outputs": [],
   "source": [
    "# Fonctions\n",
    "def flouter_bas_image(image_path, ratio=0.12):\n",
    "    try:\n",
    "        img = Image.open(image_path)\n",
    "        largeur, hauteur = img.size\n",
    "        hauteur_flou = int(hauteur * ratio)\n",
    "        zone_flou = (0, hauteur - hauteur_flou, largeur, hauteur)\n",
    "        bande = img.crop(zone_flou).filter(ImageFilter.GaussianBlur(radius=12))\n",
    "        img.paste(bande, zone_flou)\n",
    "        img.save(image_path)\n",
    "    except Exception as e:\n",
    "        print(f\"Erreur floutage : {e}\")\n",
    "\n",
    "def extraire_mots_cles(texte, n=10):\n",
    "    mots = re.findall(r'\\b\\w+\\b', texte.lower())\n",
    "    frequences = {}\n",
    "    for mot in mots:\n",
    "        if mot not in {\"le\", \"la\", \"les\", \"un\", \"une\", \"de\", \"des\", \"et\", \"en\", \"je\", \"tu\", \"il\", \"elle\"}:\n",
    "            frequences[mot] = frequences.get(mot, 0) + 1\n",
    "    mots_cles = sorted(frequences, key=frequences.get, reverse=True)[:n]\n",
    "    return mots_cles\n",
    "\n",
    "def generate_images_from_text(texte, nb_images=10):\n",
    "    mots_cles = extraire_mots_cles(texte, n=nb_images)\n",
    "    prompts = [texte + \" \" + mot for mot in mots_cles]\n",
    "    image_paths = []\n",
    "    for i, prompt in enumerate(prompts):\n",
    "        try:\n",
    "            encoded_prompt = quote(prompt)\n",
    "            img_url = f\"https://image.pollinations.ai/prompt/{encoded_prompt}\"\n",
    "            response = requests.get(img_url)\n",
    "            response.raise_for_status()\n",
    "            image_path = f\"images/image{i+1}.png\"\n",
    "            with open(image_path, \"wb\") as f:\n",
    "                f.write(response.content)\n",
    "            flouter_bas_image(image_path)\n",
    "            image_paths.append(image_path)\n",
    "        except Exception as e:\n",
    "            print(f\"Erreur image {i+1} : {e}\")\n",
    "    return image_paths\n",
    "\n",
    "def generate_audio(texte):\n",
    "    path = \"voix/narration.mp3\"\n",
    "    tts = gTTS(texte, lang=\"fr\")\n",
    "    tts.save(path)\n",
    "    return path\n",
    "\n",
    "def create_video(images, audio_path=None, duration_total=30):\n",
    "    clips = []\n",
    "    duration_par_image = duration_total / len(images)\n",
    "    for img in images:\n",
    "        clip = ImageClip(img).set_duration(duration_par_image)\n",
    "        clips.append(clip)\n",
    "    video = concatenate_videoclips(clips)\n",
    "    if audio_path:\n",
    "        audio = AudioFileClip(audio_path).subclip(0, video.duration)\n",
    "        video = video.set_audio(audio)\n",
    "    output_path = \"video_finale.mp4\"\n",
    "    video.write_videofile(output_path, fps=24, verbose=False, logger=None)\n",
    "    return output_path\n",
    "\n",
    "def traitement_video(texte, ajouter_narration):\n",
    "    try:\n",
    "        images = generate_images_from_text(texte, nb_images=10)\n",
    "        audio_path = generate_audio(texte)\n",
    "        video_path = create_video(images, audio_path if ajouter_narration else None)\n",
    "        return video_path, audio_path, audio_path\n",
    "    except Exception as e:\n",
    "        return f\"Erreur : {e}\", None, None\n",
    "\n",
    "def generer_texte_depuis_prompt(prompt):\n",
    "    try:\n",
    "        response = requests.post(\n",
    "            'http://localhost:11434/api/generate',\n",
    "            json={'model': 'mistral', 'prompt': prompt, 'stream': False}\n",
    "        )\n",
    "        return response.json()['response']\n",
    "    except Exception as e:\n",
    "        return f\"Erreur génération texte : {e}\""
   ]
  },
  {
   "cell_type": "code",
   "execution_count": 4,
   "id": "f53023bd-298e-4058-a765-20c77f9cfe0d",
   "metadata": {},
   "outputs": [
    {
     "name": "stdout",
     "output_type": "stream",
     "text": [
      "* Running on local URL:  http://127.0.0.1:7860\n",
      "* To create a public link, set `share=True` in `launch()`.\n"
     ]
    },
    {
     "data": {
      "text/html": [
       "<div><iframe src=\"http://127.0.0.1:7860/\" width=\"100%\" height=\"500\" allow=\"autoplay; camera; microphone; clipboard-read; clipboard-write;\" frameborder=\"0\" allowfullscreen></iframe></div>"
      ],
      "text/plain": [
       "<IPython.core.display.HTML object>"
      ]
     },
     "metadata": {},
     "output_type": "display_data"
    },
    {
     "data": {
      "text/plain": []
     },
     "execution_count": 4,
     "metadata": {},
     "output_type": "execute_result"
    }
   ],
   "source": [
    "# Interface Gradio\n",
    "with gr.Blocks(css=\"footer {display: none !important}\") as interface:\n",
    "    gr.Markdown(\"\"\"\n",
    "    <h1 style=\"text-align: center; color: #2D3748;\"> Générateur Vidéo AI</h1>\n",
    "    <p style=\"text-align: center; color: #4A5568;\">\n",
    "        Transforme tes pensées en une vidéo de 30 secondes avec des images artistiques, une narration douce et une interface fluide.\n",
    "    </p>\n",
    "    \"\"\")\n",
    "\n",
    "    with gr.Tab(\"Générer un texte avec un prompt\"):\n",
    "        prompt_input = gr.Textbox(label=\"Prompt de texte\", lines=4, placeholder=\"Décris ton idée ici…\")\n",
    "        bouton_generer_texte = gr.Button(\"Générer le texte\")\n",
    "        texte_genere = gr.Textbox(label=\"Texte généré\", lines=10)\n",
    "\n",
    "    with gr.Tab(\"Créer la vidéo\"):\n",
    "        texte_input = gr.Textbox(label=\"Ton texte\", lines=10, placeholder=\"Colle ici ton texte ou utilise celui généré ci-dessus\")\n",
    "        narration_checkbox = gr.Checkbox(label=\"Ajouter la narration à la vidéo ?\", value=True)\n",
    "        bouton_generer_video = gr.Button(\"Générer la vidéo\")\n",
    "\n",
    "        with gr.Row():\n",
    "            video_output = gr.Video(label=\"Vidéo finale\")\n",
    "            audio_output = gr.Audio(label=\"Écouter la narration\")\n",
    "\n",
    "        telecharger_audio = gr.File(label=\"Télécharger narration\")\n",
    "        telecharger_video = gr.File(label=\"Télécharger vidéo\")\n",
    "\n",
    "    # Lien entre actions\n",
    "    bouton_generer_texte.click(fn=generer_texte_depuis_prompt, inputs=prompt_input, outputs=texte_genere)\n",
    "    bouton_generer_video.click(\n",
    "        fn=traitement_video,\n",
    "        inputs=[texte_input, narration_checkbox],\n",
    "        outputs=[video_output, audio_output, telecharger_audio]\n",
    "    )\n",
    "    bouton_generer_video.click(lambda: \"video_finale.mp4\", None, telecharger_video)\n",
    "\n",
    "interface.launch()"
   ]
  },
  {
   "cell_type": "code",
   "execution_count": null,
   "id": "e64aa6e6-67f4-4183-9973-57b58792545b",
   "metadata": {},
   "outputs": [],
   "source": []
  }
 ],
 "metadata": {
  "kernelspec": {
   "display_name": "Python 3 (ipykernel)",
   "language": "python",
   "name": "python3"
  },
  "language_info": {
   "codemirror_mode": {
    "name": "ipython",
    "version": 3
   },
   "file_extension": ".py",
   "mimetype": "text/x-python",
   "name": "python",
   "nbconvert_exporter": "python",
   "pygments_lexer": "ipython3",
   "version": "3.10.14"
  }
 },
 "nbformat": 4,
 "nbformat_minor": 5
}
